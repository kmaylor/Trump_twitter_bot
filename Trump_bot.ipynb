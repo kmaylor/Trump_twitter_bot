{
 "cells": [
  {
   "cell_type": "code",
   "execution_count": 1,
   "metadata": {},
   "outputs": [],
   "source": [
    "import tweepy\n",
    "from tweepy import OAuthHandler\n",
    "import pickle as p\n",
    "import re\n",
    "import json\n",
    "from collections import defaultdict\n",
    "import random\n",
    "from numpy import arange, where, isin\n",
    "from bs4 import BeautifulSoup\n",
    "import requests"
   ]
  },
  {
   "cell_type": "markdown",
   "metadata": {},
   "source": [
    "# Collect Trump's Tweets "
   ]
  },
  {
   "cell_type": "code",
   "execution_count": 2,
   "metadata": {},
   "outputs": [],
   "source": [
    "twitter_keys=p.load(open('tk.pkl','rb'))"
   ]
  },
  {
   "cell_type": "code",
   "execution_count": 3,
   "metadata": {},
   "outputs": [],
   "source": [
    "\n",
    " \n",
    "auth = OAuthHandler(twitter_keys['consumer_key'], twitter_keys['consumer_secret'])\n",
    "auth.set_access_token(twitter_keys['access_token'], twitter_keys['access_secret'])\n",
    " \n",
    "api = tweepy.API(auth)"
   ]
  },
  {
   "cell_type": "code",
   "execution_count": 4,
   "metadata": {},
   "outputs": [],
   "source": [
    "def limit_handled(cursor):\n",
    "    while True:\n",
    "        try:\n",
    "            yield cursor.next()\n",
    "        except tweepy.RateLimitError:\n",
    "            time.sleep(15 * 60)\n",
    "            "
   ]
  },
  {
   "cell_type": "code",
   "execution_count": 9,
   "metadata": {},
   "outputs": [],
   "source": [
    "hold=[]\n",
    "with open('test.txt','w') as f:\n",
    "    json.dump([], f)\n",
    "for i,status in enumerate(limit_handled(tweepy.Cursor(api.user_timeline,'realDonaldTrump').items(1000))):\n",
    "    hold.append(status._json)\n",
    "    if i%100==0:\n",
    "        with open('test.txt','r') as f:\n",
    "            a=json.load(f)+hold\n",
    "        with open('test.txt','w') as f:\n",
    "            json.dump(a, f)\n",
    "        hold=[]"
   ]
  },
  {
   "cell_type": "code",
   "execution_count": 5,
   "metadata": {},
   "outputs": [],
   "source": [
    "trump_tweets=json.load(open('test.txt','r'))"
   ]
  },
  {
   "cell_type": "markdown",
   "metadata": {},
   "source": [
    "# Filter tweets into strings "
   ]
  },
  {
   "cell_type": "code",
   "execution_count": 9,
   "metadata": {},
   "outputs": [
    {
     "ename": "SyntaxError",
     "evalue": "unexpected EOF while parsing (<ipython-input-9-bdde08e767c3>, line 2)",
     "output_type": "error",
     "traceback": [
      "\u001b[0;36m  File \u001b[0;32m\"<ipython-input-9-bdde08e767c3>\"\u001b[0;36m, line \u001b[0;32m2\u001b[0m\n\u001b[0;31m    \u001b[0m\n\u001b[0m    ^\u001b[0m\n\u001b[0;31mSyntaxError\u001b[0m\u001b[0;31m:\u001b[0m unexpected EOF while parsing\n"
     ]
    }
   ],
   "source": [
    "def retweet_filter(tweet):\n",
    "    "
   ]
  },
  {
   "cell_type": "code",
   "execution_count": 6,
   "metadata": {},
   "outputs": [],
   "source": [
    "def drop_links(tweet_words):\n",
    "    try:\n",
    "        cutoff=where([x=='https' for x in tweet_words])[0][0]\n",
    "        return tweet_words[:cutoff]\n",
    "    except IndexError:\n",
    "        return tweet_words"
   ]
  },
  {
   "cell_type": "code",
   "execution_count": 7,
   "metadata": {},
   "outputs": [],
   "source": [
    "def tweets_to_list(tweets):\n",
    "    tweet_words=[]\n",
    "    for tweet in tweets:\n",
    "        if tweet['text'][:2]!='RT':\n",
    "            tweet_words.extend(drop_links(re.findall(r\"[\\w']+|[.,!?;]\",tweet['text'])))\n",
    "    return tweet_words"
   ]
  },
  {
   "cell_type": "code",
   "execution_count": 8,
   "metadata": {},
   "outputs": [],
   "source": [
    "trump_words=tweets_to_list(trump_tweets)\n"
   ]
  },
  {
   "cell_type": "markdown",
   "metadata": {},
   "source": [
    "# Generate New Tweets "
   ]
  },
  {
   "cell_type": "code",
   "execution_count": 9,
   "metadata": {},
   "outputs": [],
   "source": [
    "def generate_using_ngrams(n,words):\n",
    "    '''\n",
    "    Generate a sentence using the ngrams method. \n",
    "    \n",
    "    Params:\n",
    "    n: Words is broken into seqences of length n, n-1 words are then used to predict the next word.\n",
    "    words: A list of words that generated sentences will be based on.\n",
    "    '''\n",
    "    \n",
    "    if not n>1:raise ValueError(\"n must be at least 2\")\n",
    "        \n",
    "    ngrams=zip(*[words[i:] for i in arange(n)])\n",
    "    transitions=defaultdict(list)\n",
    "    starts=[]\n",
    "    \n",
    "    for ngram in ngrams:\n",
    "        if ngram[0] in ['.','!','?']:\n",
    "            starts.append(ngram[1:-1])\n",
    "        transitions[ngram[:-1]].append(ngram[-1])\n",
    "    \n",
    "    \n",
    "    current= random.choice(starts)\n",
    "    prev='.'\n",
    "    result=[*current]\n",
    "\n",
    "    while True:\n",
    "        next_word_candidates=transitions[(prev,*current)]\n",
    "        next_word = random.choice(next_word_candidates)\n",
    "        prev, current = current[0], current[1:]+(next_word,)\n",
    "        result.append(current[-1])\n",
    "        if current[-1] in ['.','!','?']: return ' '.join(result)"
   ]
  },
  {
   "cell_type": "code",
   "execution_count": 24,
   "metadata": {},
   "outputs": [
    {
     "data": {
      "text/plain": [
       "'So many stories about me and yet they know nothing about me amp ; very positive signs from Alaska and two others McCain is out of control !'"
      ]
     },
     "execution_count": 24,
     "metadata": {},
     "output_type": "execute_result"
    }
   ],
   "source": [
    "generate_using_ngrams(3,trump_words)"
   ]
  },
  {
   "cell_type": "code",
   "execution_count": 16,
   "metadata": {},
   "outputs": [],
   "source": [
    "def generate_using_nxmgrams(n,m,words):\n",
    "    '''\n",
    "    Generate a sentence using the ngrams method. \n",
    "    \n",
    "    Params:\n",
    "    n: Words is broken into seqences of length n, n-1 words are then used to predict the next word.\n",
    "    words: A list of words that generated sentences will be based on.\n",
    "    '''\n",
    "    \n",
    "    if not n>1:raise ValueError(\"n must be at least 2\")\n",
    "        \n",
    "    nxmgrams=zip(*[words[i:] for i in arange(n+m)])\n",
    "    transitions=defaultdict(list)\n",
    "    starts=[]\n",
    "    \n",
    "    for nxmgram in nxmgrams:\n",
    "        if nxmgram[0] in ['.','!','?']:\n",
    "            starts.append(nxmgram[1:-m])\n",
    "        transitions[nxmgram[:-m]].append(nxmgram[-m:])\n",
    "    \n",
    "    current= random.choice(starts)\n",
    "    prev='.'\n",
    "    result=[*current]\n",
    "    while True:\n",
    "        next_candidates=transitions[(prev,*current)]\n",
    "        next = random.choice(next_candidates)\n",
    "        prev = current[m-n]\n",
    "        if n-1-m==0:\n",
    "            current = (*next,)\n",
    "        else:\n",
    "            current =  current[m+1-n:]+(*next,)\n",
    "        for c in current[-m:]: result.append(c)\n",
    "        if current[-1] in ['.','!','?']: return ' '.join(result)"
   ]
  },
  {
   "cell_type": "code",
   "execution_count": 21,
   "metadata": {},
   "outputs": [
    {
     "data": {
      "text/plain": [
       "'He is strong on Border amp ; Wall , the military , tax cuts amp ; reform .'"
      ]
     },
     "execution_count": 21,
     "metadata": {},
     "output_type": "execute_result"
    }
   ],
   "source": [
    "generate_using_nxmgrams(3,2,trump_words)"
   ]
  },
  {
   "cell_type": "markdown",
   "metadata": {},
   "source": [
    "# Scrape Fox News for Headlines "
   ]
  },
  {
   "cell_type": "code",
   "execution_count": 17,
   "metadata": {},
   "outputs": [],
   "source": [
    "url=\"http://www.foxnews.com\"\n",
    "html=requests.get(url).text\n",
    "soup=BeautifulSoup(html,'html5lib')"
   ]
  },
  {
   "cell_type": "code",
   "execution_count": 18,
   "metadata": {},
   "outputs": [],
   "source": [
    "stories=soup.find_all('h2',{'class':['title']})"
   ]
  },
  {
   "cell_type": "code",
   "execution_count": 21,
   "metadata": {},
   "outputs": [],
   "source": [
    "headlines=[story.a.contents[0] for story in stories if 'video' not in story.a.get('href')]\n"
   ]
  },
  {
   "cell_type": "code",
   "execution_count": 22,
   "metadata": {},
   "outputs": [
    {
     "data": {
      "text/plain": [
       "['At least 10 dead as tens of thousands race to escape Northern California flames',\n",
       " 'ESPN suspends anti-Trump anchor for attacking president, Dallas Cowboys',\n",
       " \"Cops say hotel security guard took Vegas shooter's bullet 6 minutes before attack\",\n",
       " 'Giant Trump pin cushion turns heads at art competition',\n",
       " \"Backlash over 'sexual identity' test in sixth-grade class\",\n",
       " \"Texas Tech campus locked down, 'shooter at large'\",\n",
       " \"Melania bashes Trump's ex-wife Ivana for calling herself first lady\",\n",
       " 'North Korea could use Oct. 10 holiday as excuse to provoke US, experts say',\n",
       " 'Twitter shuts down GOP congresswoman’s campaign video over anti-abortion line',\n",
       " 'Ex-con stands trial in brutal burning murder of former Mississippi cheerleader, 19',\n",
       " 'University of Pittsburgh student found dead in homicide at off-campus home',\n",
       " 'Lives lost in Mexico quake could have been saved, engineers say',\n",
       " \"Groveling Harvey Weinstein sends 'desperate' email to Hollywood elite before getting fired, report says\",\n",
       " 'John Wayne Gacy clown paintings, other artwork to hit auction block',\n",
       " 'Texas girl, 3, vanishes after dad sent her outside overnight for not drinking milk, cops say',\n",
       " 'After the Niger ambush: Faces of the fallen US soldiers',\n",
       " 'Corker fight exposes Trump’s new GOP problem: Lame-duck senators with ax to grind',\n",
       " 'Man kidnaps stepdaughter, keeps her as sex slave for 19 years, police say',\n",
       " 'New California law allows jail time for using wrong gender pronoun, sponsor denies that would happen',\n",
       " 'Hackers breach public school databases, send out threatening texts',\n",
       " 'NFL Hall of Famer Y.A. Tittle dies at 90',\n",
       " 'Florida nursing home that lost power in Irma sees death toll rise to 14',\n",
       " 'Chicago man sues Cubs, MLB after foul ball leaves him blind in one eye',\n",
       " 'Man sexually assaulted 2 kids in New Jersey home invasion, cops say',\n",
       " '\\nWhy celebrate Columbus Day? Here are a few reasons',\n",
       " \"I won't let Las Vegas shooting change my mind. People are good\",\n",
       " 'The incredible reason my coworker stopped talking to me',\n",
       " 'Single-payer health care means you might be denied surgery for being too fat — no, really',\n",
       " '\\nThe Las Vegas Massacre can teach us important lessons about saving lives',\n",
       " 'The Harvey Weinstein scandal: Why are so-called feminists defending this creep?',\n",
       " 'Does Bob Corker challenge Trump in 2020?',\n",
       " 'Mr. Trump, Reagan used tax cuts to check the power of the state. You can, too',\n",
       " \"\\nHarvey Weinstein's money is still good, even if he's not -- Democrats should go ahead and spend it\",\n",
       " \"Juan Williams: Mr. Trump and Senate Republicans, please walk away from Alabama's Roy Moore\",\n",
       " 'Pence walks out of an NFL game and sports journalists lose their collective minds',\n",
       " 'Gerri Willis: Las Vegas one week later: Gratitude, a hug and a shared tear is the new normal AND the old',\n",
       " 'Does Bob Corker challenge Trump in 2020?',\n",
       " 'Mr. Trump, Reagan used tax cuts to check the power of the state. You can, too',\n",
       " \"Harvey Weinstein's money is still good, even if he's not -- Democrats should go ahead and spend it\",\n",
       " '‘Batman’s’ Burt Ward: From caped to canine crusader',\n",
       " 'Tips for becoming a successful entrepreneur',\n",
       " '‘Patriot’ Tennessee business owner says NFL will lose more ads',\n",
       " 'Death tax threatens legacy of small business, Tom Farms CEO says',\n",
       " 'Entrepreneurs tackle direct-to-consumer cookware made in America',\n",
       " 'Small business group applauds GOP tax plan',\n",
       " 'Mom jailed over refusal to vaccinate son reportedly released',\n",
       " \"Outrage over pharmaceutical company that created 'fake' cancer patients\",\n",
       " 'New drug to protect infants from whooping cough shows promise',\n",
       " 'Cholera claims unborn children as epidemic spreads Yemen misery',\n",
       " \"Here's how to talk to your kids about opioids\",\n",
       " \"Surgeons remove record-breaking tumor from patient's kidney\",\n",
       " 'Hungry bears caught on camera breaking into pizza shop, eating salami',\n",
       " 'Activists at New Jersey bear hunt arrested during protest',\n",
       " 'Cruise ship stuck in the Gulf because of Tropical Depression Nate',\n",
       " 'American Airlines cancels flight after cargo catches fire on tarmac',\n",
       " 'In shooting chaos, Las Vegas airport became a safe haven',\n",
       " \"The 'Devil’s Swimming Pool' on the edge of Victoria Falls is for adrenaline junkies only\",\n",
       " \"Twitter drops GOP Rep. Marsha Blackburn's ad for 'inflammatory' line about Planned Parenthood\",\n",
       " 'Unsent text message OK as valid will, says Australian court',\n",
       " 'Hackers breach public school databases, send out threatening texts',\n",
       " 'Facebook: 150 Russia-linked political ads showed up on Instagram',\n",
       " 'Report: Russian agents bought Google ads during US election',\n",
       " 'Facebook is continuing the fight against fake news with a new button',\n",
       " \"More robots didn't lead to layoffs: Boxed CEO\",\n",
       " 'Weinstein Co board ousts Harvey Weinstein after harassment allegations',\n",
       " 'Big Tech has big plans to help reconnect Puerto Rico',\n",
       " \"Ryanair's operations chief to step down after cancellations\",\n",
       " 'Clear Channel aids FBI in Las Vegas shooting investigation',\n",
       " 'GE Finance Chief Jeff Bornstein to leave company in high-profile shake-up',\n",
       " \"Wendy's adds chicken tenders in response to fast food frenemy McDonald's launch\",\n",
       " 'Hungry bears caught on camera breaking into pizza shop, eating salami',\n",
       " \"McDonald's employee attacks customer after being verbally assaulted\",\n",
       " \"Thai restaurant instructs chef to make customer 'regret being born'\",\n",
       " 'McDonald’s customer spotted selling Szechuan sauce-dipped McNuggets for $10 apiece',\n",
       " \"Fans call for McDonald's 'boycott' following Szechuan sauce snafu\",\n",
       " \"\\n'It's a New York thing': SNL creator Lorne Michaels on why Weinstein was left out of show\",\n",
       " 'ESPN’s Jemele Hill suspended from network for two weeks',\n",
       " \"'Big Bang Theory' Season 11, episode 3 recap: Sheldon meets a new part of himself\",\n",
       " \"'Real Housewives' star NeNe Leakes issues apology for sexual assault comments on stage\",\n",
       " 'Harvey Weinstein sexual harassment scandal: Hollywood reacts',\n",
       " \"Seth Rogen slammed for trying to get Costco to stop selling conservative writer's book\",\n",
       " 'Your planting guide for beautiful yellow daffodils',\n",
       " '8 overlooked germy places in your kitchen to clean now',\n",
       " 'How to make use and better your life with a spare bedroom',\n",
       " 'Transform a whole house by painting these 8 small spaces',\n",
       " 'Hate yard work? 8 ways to achieve a smarter yard',\n",
       " '7 reasons to consider pullout waste and recycling cabinets',\n",
       " \"Texas Tech campus locked down, 'shooter at large'\",\n",
       " 'Southern California fire shrouds Disneyland Anaheim in dramatic, smoky skies',\n",
       " 'California wine country wildfires kill at least 10, force tens of thousands to evacuate',\n",
       " 'California wine country wildfires kill at least 10, force massive evacuations',\n",
       " 'At least 10 dead as fires burn in California wine country',\n",
       " \"Wildfire chars California trailer park in 'blink of an eye'\",\n",
       " 'Giant Trump pin cushion mocks president at Michigan-based art competition',\n",
       " \"\\nTwitter drops GOP Rep. Marsha Blackburn's ad for 'inflammatory' line about Planned Parenthood\",\n",
       " \"Trump's feuds with Republican lawmakers, from Paul to Graham\",\n",
       " \"Juan Williams: Mr. Trump and Senate Republicans, please walk away from Alabama's Roy Moore\",\n",
       " 'Pence walks out of an NFL game and sports journalists lose their collective minds',\n",
       " 'Melania Trump slams Ivana for calling herself first lady',\n",
       " '\\nNorth Korea could use holiday as excuse to provoke US, experts say',\n",
       " 'John Wayne Gacy clown paintings, other artwork to hit auction block',\n",
       " 'Lives lost in Mexico quake could have been saved, engineers say',\n",
       " 'Unsent text message OK as valid will, says Australian court',\n",
       " 'Iran attempted to buy nuclear technology illegally 32 times, German agency says',\n",
       " 'After the Niger ambush: Faces of the fallen US soldiers',\n",
       " 'ESPN’s Jemele Hill suspended from network for two weeks',\n",
       " \"Georgia mom upset about sexual 'identity definitions' quiz at school\",\n",
       " 'Gerri Willis: Las Vegas one week later: Gratitude, a hug and a shared tear is the new normal AND the old',\n",
       " 'Why celebrate Columbus Day? Here are a few reasons',\n",
       " \"I won't let Las Vegas shooting change my mind. People are good\",\n",
       " 'America is the land of opportunity, and should be proud of it',\n",
       " '2018 Dodge Challenger SRT Demon test drive',\n",
       " 'GM developing stealthy self-driving hydrogen-powered cargo truck with military in mind',\n",
       " '\\nToyota TJ Cruiser hybrid is a tiny sport utility minivan, or something',\n",
       " \"Tesla's autonomous car claim is 'full of crap', says General Motors expert\",\n",
       " 'Technology crammed into cars worsens driver distraction',\n",
       " 'Soviet-era screw-propelled truck returns',\n",
       " 'CrossFit mom does adorable workout with her 6-month-old baby',\n",
       " 'Florida couple goes to Taco Bell for post-wedding photoshoot',\n",
       " 'Barber goes the extra mile for young client with autism',\n",
       " 'Baltimore school evacuated over pumpkin spice air freshener',\n",
       " 'Are any weight loss supplements considered safe?',\n",
       " 'Woman takes selfies with catcallers, turns them into viral Instagram account',\n",
       " \"Sexy 'Stranger Things' costume draws backlash from fans\",\n",
       " 'Banana Republic manager said employee’s braids were too ‘urban’ and ‘unkempt’ for store’s image, woman claims',\n",
       " \"Dove apologizes for 'racist' ad that triggered outcry\",\n",
       " \"Donald Trump defends Melania's choice to wear stilettos to Houston after Hurricane Harvey\",\n",
       " \"Urban Outfitters blasted for 'army fashion' line\",\n",
       " 'The most surprising foods fueling the beauty aisle',\n",
       " \"The Obamas' potential NYC home was site of two high-profile suicides\",\n",
       " 'Your planting guide for beautiful yellow daffodils',\n",
       " 'What to look for in high-quality wood furniture',\n",
       " '8 overlooked germy places in your kitchen to clean now',\n",
       " 'Barack and Michelle Obama reportedly eyeing NYC apartment',\n",
       " 'How to make use and better your life with a spare bedroom',\n",
       " 'What Chip and Joanna Gaines teach us about marriage',\n",
       " \"Erick Erickson: Politics really don't matter when you have kids and are dying\",\n",
       " \"Marine Corps veteran: I'm thankful I wasn't offered assisted suicide when I was told I was dying three years ago\",\n",
       " \"Lionsgate Entertainment City to bring 'Hunger Games,' 'Mad Men'-themed attractions to Times Square\",\n",
       " \"Frank, the lawnmower boy, still has liberals all worked up. Let's cut the crap, folks!\",\n",
       " 'The doctor told my wife she had six weeks to live -- two years ago',\n",
       " 'NFL Hall of Famer Y.A. Tittle dead at 90',\n",
       " 'Jerry Jones gives Cowboys players ultimatum: Stand for anthem or sit for game',\n",
       " 'Houston Texans star J.J. Watt out for the season following leg injury',\n",
       " 'Chicago Marathon sees first American winner in 15 years',\n",
       " 'Dazzling basketball great Connie Hawkins dies at 75',\n",
       " '‘Mad Pooper’ inquiries should stop now, Colorado police say',\n",
       " 'Freddy Krueger-style metal glove with six-inch blades turned in to UK police',\n",
       " \"Spanish woman wants to open up grave to prove she's alive\",\n",
       " \"California's enacted and potential bans: From internal combustion engines to plastic bags\",\n",
       " \"New Yale college celebrates 'transgressive gender expression', calls its students 'lemurs'\",\n",
       " \"'Decapitated body' is really Halloween decoration, Tennessee police say\",\n",
       " \"Smoke, wildfires damage California's famed wine country\",\n",
       " \"In Weinstein's downfall, a moment of reckoning for Hollywood\",\n",
       " 'The Latest: Actors union condemns Weinstein in statement',\n",
       " 'Reports: Google uncovers ads by Russian operatives',\n",
       " 'Scientists say cost of capturing CO2 declining',\n",
       " 'Sheriff: Vegas gunman aimed at fuel tanks as diversion',\n",
       " 'Health care and industrial companies lead US stocks lower',\n",
       " 'US companies might use tax reform profits to invest in automation, experts say',\n",
       " \"Investors boo cinema stocks after 'Blade Runner 2049' underwhelms\",\n",
       " 'Wall Street recedes from highs as quarterly reports loom',\n",
       " 'Global markets steady as positive sentiment kept in check',\n",
       " '5 things to do with the stock market at a new all-time high',\n",
       " \"Tennessee church usher who stopped gunman is hailed as 'hero'\",\n",
       " 'Hero dog saves lives following earthquake in Mexico',\n",
       " 'Tebow, Rubio help with Hurricane Irma relief efforts in Florida Keys',\n",
       " \"New Jersey cop helps find driver's lost diamond engagement ring on highway\",\n",
       " \"'It' factor: California cops pose for viral photo inspired by horror film\",\n",
       " 'Florida millionaire shelters 70 foster children displaced by Hurricane Irma',\n",
       " \"Dana White ticked off Jason Aldean turned down Las Vegas UFC gig in favor of 'SNL'\",\n",
       " 'Jason Aldean visits Las Vegas shooting victims',\n",
       " \"Dolly Parton: 'When all else fails, do a boob joke'\",\n",
       " 'Las Vegas shooting brings up uncomfortable gun control debate in country music community',\n",
       " \"Jason Aldean's wife Brittany on Las Vegas shooting: 'We were the lucky ones'\",\n",
       " \"Country music stars, fans band together after Las Vegas shooting: We won't let 'fear take over'\",\n",
       " 'America is the land of opportunity, and should be proud of it',\n",
       " 'Texas neighborhood tense over World War II tank parked outside multimillion-dollar home',\n",
       " '\\nB-17 bomber flies cross country to honor World War Two veterans',\n",
       " \"Rush Limbaugh on NFL anthem controversy: 'The left has hijacked this game'\",\n",
       " '\\nAmerican Dream is alive and well for African immigrant entrepreneur',\n",
       " 'Fox News Poll: Views shift on kneeling during national anthem']"
      ]
     },
     "execution_count": 22,
     "metadata": {},
     "output_type": "execute_result"
    }
   ],
   "source": [
    "headlines"
   ]
  },
  {
   "cell_type": "code",
   "execution_count": null,
   "metadata": {},
   "outputs": [],
   "source": []
  }
 ],
 "metadata": {
  "kernelspec": {
   "display_name": "Python 3",
   "language": "python",
   "name": "python3"
  },
  "language_info": {
   "codemirror_mode": {
    "name": "ipython",
    "version": 3
   },
   "file_extension": ".py",
   "mimetype": "text/x-python",
   "name": "python",
   "nbconvert_exporter": "python",
   "pygments_lexer": "ipython3",
   "version": "3.5.2"
  }
 },
 "nbformat": 4,
 "nbformat_minor": 2
}
