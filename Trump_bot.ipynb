{
 "cells": [
  {
   "cell_type": "code",
   "execution_count": 1,
   "metadata": {},
   "outputs": [],
   "source": [
    "import tweepy\n",
    "from tweepy import OAuthHandler\n",
    "import pickle as p\n",
    "import re\n",
    "import json\n",
    "from collections import defaultdict\n",
    "import random\n",
    "from numpy import arange, where, isin, mean, array, exp, sqrt, dot, pi, diag, concatenate\n",
    "from bs4 import BeautifulSoup\n",
    "import requests\n",
    "from scipy.optimize import curve_fit\n",
    "from random import uniform\n",
    "from numpy.random import normal\n",
    "from matplotlib.pyplot import hist, show, plot, xlim, legend"
   ]
  },
  {
   "cell_type": "markdown",
   "metadata": {},
   "source": [
    "# Collect Trump's Tweets "
   ]
  },
  {
   "cell_type": "code",
   "execution_count": 314,
   "metadata": {},
   "outputs": [],
   "source": [
    "twitter_keys=p.load(open('tk.pkl','rb'))"
   ]
  },
  {
   "cell_type": "code",
   "execution_count": 315,
   "metadata": {},
   "outputs": [],
   "source": [
    "\n",
    " \n",
    "auth = OAuthHandler(twitter_keys['consumer_key'], twitter_keys['consumer_secret'])\n",
    "auth.set_access_token(twitter_keys['access_token'], twitter_keys['access_secret'])\n",
    " \n",
    "api = tweepy.API(auth)"
   ]
  },
  {
   "cell_type": "raw",
   "metadata": {},
   "source": [
    "api.update_status(\"Please be kind, I am still learning how to talk\")"
   ]
  },
  {
   "cell_type": "code",
   "execution_count": 316,
   "metadata": {},
   "outputs": [],
   "source": [
    "def limit_handled(cursor):\n",
    "    while True:\n",
    "        try:\n",
    "            yield cursor.next()\n",
    "        except tweepy.RateLimitError:\n",
    "            time.sleep(15 * 60)\n",
    "            "
   ]
  },
  {
   "cell_type": "code",
   "execution_count": 338,
   "metadata": {},
   "outputs": [],
   "source": [
    "hold=[]\n",
    "with open('test.txt','w') as f:\n",
    "    json.dump([], f)\n",
    "for i,status in enumerate(limit_handled(tweepy.Cursor(api.user_timeline,'realDonaldTrump').items(10000))):\n",
    "    hold.append(status._json)\n",
    "    if i%100==0:\n",
    "        with open('test.txt','r') as f:\n",
    "            a=json.load(f)+hold\n",
    "        with open('test.txt','w') as f:\n",
    "            json.dump(a, f)\n",
    "        hold=[]"
   ]
  },
  {
   "cell_type": "code",
   "execution_count": 339,
   "metadata": {},
   "outputs": [],
   "source": [
    "trump_tweets=json.load(open('test.txt','r'))"
   ]
  },
  {
   "cell_type": "markdown",
   "metadata": {},
   "source": [
    "# Trump Tweet Times "
   ]
  },
  {
   "cell_type": "markdown",
   "metadata": {},
   "source": [
    "### Tweets per day"
   ]
  },
  {
   "cell_type": "code",
   "execution_count": 340,
   "metadata": {},
   "outputs": [],
   "source": [
    "def tweets_per_day(tweets):\n",
    "    daily_tweets=defaultdict(list)\n",
    "    j=0\n",
    "    day = tweets[0]['created_at'][:3]\n",
    "    for i,t in enumerate(tweets[:-1]):\n",
    "        next_day=tweets[i+1]['created_at'][:3]\n",
    "        j+=1\n",
    "        if day!=next_day:\n",
    "            daily_tweets[day].append(j)\n",
    "            day=next_day\n",
    "            j=0\n",
    "    if j!=0:\n",
    "        j+=1\n",
    "        daily_tweets[day].append(j)\n",
    "    else:\n",
    "        daily_tweets[next_day].append(1)\n",
    "    return daily_tweets"
   ]
  },
  {
   "cell_type": "code",
   "execution_count": 341,
   "metadata": {},
   "outputs": [],
   "source": [
    "dt = tweets_per_day(trump_tweets)"
   ]
  },
  {
   "cell_type": "code",
   "execution_count": 349,
   "metadata": {},
   "outputs": [
    {
     "data": {
      "image/png": "[encoded data removed]",
      "text/plain": [
       "<matplotlib.figure.Figure at 0x7fe6161b35f8>"
      ]
     },
     "metadata": {},
     "output_type": "display_data"
    }
   ],
   "source": [
    "counts,bounds,_ = hist([i for v in dt.values() for i in v],bins=100,normed=True)\n",
    "bin_c=(bounds[1:]+bounds[:-1])/2\n",
    "\n",
    "def gauss(x,mu,sigma):\n",
    "    return exp(-(x-mu)**2/2/sigma**2)/sqrt(2*pi*sigma**2)\n",
    "\n",
    "expected=(10,4)\n",
    "params,cov=curve_fit(gauss,bin_c,counts,expected)\n",
    "plot(bin_c,gauss(bin_c,*params),color='red',lw=3,label='model')\n",
    "\n",
    "g1 = normal(params[0],params[1],int(round(len(counts)*100)))\n",
    "counts1,bounds1,_=hist(g1,alpha=.8,normed=True)\n",
    "xlim(0,30)\n",
    "show()"
   ]
  },
  {
   "cell_type": "code",
   "execution_count": 350,
   "metadata": {},
   "outputs": [
    {
     "data": {
      "text/plain": [
       "4"
      ]
     },
     "execution_count": 350,
     "metadata": {},
     "output_type": "execute_result"
    }
   ],
   "source": [
    "tweets_per_day=0\n",
    "while tweets_per_day <=0:\n",
    "    tweets_per_day=int(round(normal(params[0],params[1])))\n",
    "tweets_per_day"
   ]
  },
  {
   "cell_type": "code",
   "execution_count": 351,
   "metadata": {},
   "outputs": [],
   "source": [
    "def convert_time(t):\n",
    "    return int(t[:2])+int(t[3:5])/60+int(t[6:8])/3600\n",
    "    \n",
    "\n",
    "def tweet_times(tweets):\n",
    "    times=[]\n",
    "    for t in tweets:\n",
    "        created_at = t['created_at']\n",
    "        col_loc=where([v==':' for v in created_at])[0][0]\n",
    "        times.append(convert_time(created_at[col_loc-2:col_loc+6]))\n",
    "    return array(times)"
   ]
  },
  {
   "cell_type": "code",
   "execution_count": 352,
   "metadata": {},
   "outputs": [],
   "source": [
    "times=tweet_times(trump_tweets)-7\n",
    "for i,t in enumerate(times):\n",
    "    if t<0:\n",
    "        times[i]+=24\n",
    "        "
   ]
  },
  {
   "cell_type": "code",
   "execution_count": 353,
   "metadata": {},
   "outputs": [
    {
     "data": {
      "image/png": "[encoded data removed]",
      "text/plain": [
       "<matplotlib.figure.Figure at 0x7fe6163841d0>"
      ]
     },
     "metadata": {},
     "output_type": "display_data"
    }
   ],
   "source": [
    "counts,bounds,_=hist(times,bins=arange(0,24,.25),normed=True)\n",
    "bin_c=(bounds[1:]+bounds[:-1])/2\n",
    "\n",
    "def bimodal(x,mu1,sigma1,w1,mu2,sigma2):\n",
    "    return w1*gauss(x,mu1,sigma1)+(1-w1)*gauss(x,mu2,sigma2)\n",
    "\n",
    "expected=(5,1,.1,15,5)\n",
    "params,cov=curve_fit(bimodal,bin_c,counts,expected)\n",
    "plot(bin_c,bimodal(bin_c,*params),color='red',lw=3,label='model')\n",
    "\n",
    "g1 = normal(params[0],params[1],int(round(params[2]*len(times)*100)))\n",
    "g2 = normal(params[3],params[4],int(round((1-params[2])*len(times)*100)))\n",
    "gg=concatenate((g1,g2))\n",
    "counts1,bounds1,_=hist(gg,bins=arange(0,24,.25),alpha=.8,normed=True)\n",
    "\n",
    "xlim(0,24)\n",
    "legend()\n",
    "show()\n",
    "#xlim(0,24)"
   ]
  },
  {
   "cell_type": "markdown",
   "metadata": {
    "collapsed": true
   },
   "source": [
    "# Generate Times "
   ]
  },
  {
   "cell_type": "code",
   "execution_count": 354,
   "metadata": {},
   "outputs": [
    {
     "name": "stdout",
     "output_type": "stream",
     "text": [
      "[15.027540025638622, 13.11591633860224, 0.5125263578711241, 3.288506611819411]\n"
     ]
    }
   ],
   "source": [
    "times=[]\n",
    "for i in arange(tweets_per_day):\n",
    "    time=25\n",
    "    while (time<0 or time>24):\n",
    "        if uniform(0,1) >= params[2]:\n",
    "            time = normal(params[3],params[4])\n",
    "        else:\n",
    "            time = normal(params[0],params[1])\n",
    "        time+=7\n",
    "        if time>24: time-=24\n",
    "    times.append(time)\n",
    "print(times)"
   ]
  },
  {
   "cell_type": "markdown",
   "metadata": {},
   "source": [
    "# Filter tweets into strings "
   ]
  },
  {
   "cell_type": "code",
   "execution_count": 355,
   "metadata": {},
   "outputs": [],
   "source": [
    "def drop_links(tweet_words):\n",
    "    try:\n",
    "        cutoff=where([x=='https' for x in tweet_words])[0][0]\n",
    "        return tweet_words[:cutoff]\n",
    "    except IndexError:\n",
    "        return tweet_words\n",
    "\n",
    "def grab_links(tweet_list):\n",
    "    if 'http' in tweet_list[-1]:\n",
    "        return tweet_list[-1]\n",
    "    else:\n",
    "        return ''\n",
    "    \n",
    "def fix_symbols(words):\n",
    "    for i,w in enumerate(words):\n",
    "        if w =='amp':\n",
    "            words[i]='&'\n",
    "            del words[i+1]\n",
    "        if w =='U' and words[i+1:i+6]==['.','S','.','A','.']:\n",
    "            words[i]='U.S.A.'\n",
    "            del words[i+1:i+6]\n",
    "    return words\n",
    "\n"
   ]
  },
  {
   "cell_type": "code",
   "execution_count": 356,
   "metadata": {},
   "outputs": [],
   "source": [
    "def tweets_to_list(tweets):\n",
    "    tweet_words=[]\n",
    "    for tweet in tweets:\n",
    "        if tweet['text'][:2]!='RT':# and not tweet['truncated']:\n",
    "            link=grab_links(tweet['text'].split())\n",
    "            tweet_words.extend(drop_links(re.findall(r\"[\\w']+|[.,!?;]\",tweet['text']))+[link])\n",
    "    return fix_symbols(tweet_words)"
   ]
  },
  {
   "cell_type": "code",
   "execution_count": 357,
   "metadata": {},
   "outputs": [],
   "source": [
    "trump_words=tweets_to_list(trump_tweets)\n"
   ]
  },
  {
   "cell_type": "markdown",
   "metadata": {},
   "source": [
    "# Generate New Tweets "
   ]
  },
  {
   "cell_type": "code",
   "execution_count": 366,
   "metadata": {},
   "outputs": [],
   "source": [
    "def generate_using_nxmgrams(n,m,words):\n",
    "    '''\n",
    "    Generate a sentence using the ngrams method. \n",
    "    \n",
    "    Params:\n",
    "    n: Words is broken into seqences of length n, n-1 words are then used to predict the next word.\n",
    "    words: A list of words that generated sentences will be based on.\n",
    "    '''\n",
    "    \n",
    "    if not n>1:raise ValueError(\"n must be at least 2\")\n",
    "        \n",
    "    nxmgrams=zip(*[words[i:] for i in arange(n+m)])\n",
    "    transitions=defaultdict(list)\n",
    "    starts=[]\n",
    "    \n",
    "    for nxmgram in nxmgrams:\n",
    "        if nxmgram[0] in ['.','!','?']:\n",
    "            starts.append(nxmgram[1:-m])\n",
    "        transitions[nxmgram[:-m]].append(nxmgram[-m:])\n",
    "    \n",
    "    current= random.choice(starts)\n",
    "    prev='.'\n",
    "    result=[*current]\n",
    "    while True:\n",
    "        next_candidates=transitions[(prev,*current)]\n",
    "        next = random.choice(next_candidates)\n",
    "        prev = current[m-n]\n",
    "        if n-1-m==0:\n",
    "            current = (*next,)\n",
    "        else:\n",
    "            current =  current[m+1-n:]+(*next,)\n",
    "        for c in current[-m:]: result.append(c)\n",
    "        if current[-1] in ['.','!','?'] and len(result)>5: return ' '.join(result)"
   ]
  },
  {
   "cell_type": "code",
   "execution_count": 379,
   "metadata": {},
   "outputs": [
    {
     "name": "stdout",
     "output_type": "stream",
     "text": [
      "S . & how a lame excuse for why the Dems lost the election , and now the facts are pouring out .\n"
     ]
    }
   ],
   "source": [
    "gen_tweet=['.','.','.','.','.']\n",
    "while gen_tweet.count('.')>4:\n",
    "    try:\n",
    "        gen_tweet=generate_using_nxmgrams(3,1,trump_words)\n",
    "    except IndexError:\n",
    "        gen_tweet[:3]==['.','.','.','.','.']\n",
    "print(gen_tweet)"
   ]
  },
  {
   "cell_type": "markdown",
   "metadata": {},
   "source": [
    "# Scrape Fox News for Headlines "
   ]
  },
  {
   "cell_type": "code",
   "execution_count": 50,
   "metadata": {},
   "outputs": [],
   "source": [
    "url=\"http://www.foxnews.com\"\n",
    "html=requests.get(url).text\n",
    "soup=BeautifulSoup(html,'html5lib')"
   ]
  },
  {
   "cell_type": "code",
   "execution_count": 51,
   "metadata": {},
   "outputs": [],
   "source": [
    "stories=soup.find_all('h2',{'class':['title']})"
   ]
  },
  {
   "cell_type": "code",
   "execution_count": 52,
   "metadata": {},
   "outputs": [],
   "source": [
    "headlines=[story.a.contents[0] for story in stories if 'video' not in story.a.get('href')]\n"
   ]
  },
  {
   "cell_type": "code",
   "execution_count": 53,
   "metadata": {},
   "outputs": [
    {
     "data": {
      "text/plain": [
       "['Former staffer: Embattled Rep. Conyers took meeting wearing only underwear',\n",
       " 'WaPo reporter caught plotting Dem strategy with Soros',\n",
       " \"Linda Tripp not buying Dems' newfound scorn for Clinton\",\n",
       " 'Hunter shoots, kills woman walking dogs after mistaking her for deer',\n",
       " 'Hackers putting pornographic images on ISIS propaganda sites, report says',\n",
       " \"Judge rules Seattle's tax on the wealthy is illegal; city vows to appeal\",\n",
       " \"'Let it Go' singers Demi Lovato, Idina Menzel sued by man claiming hit ripped off song\",\n",
       " 'Mark Levin on cable news rivals: ‘We’ll actually have an audience’',\n",
       " 'Trump rips NY Giants player who took a knee on Thanksgiving',\n",
       " 'Incredible 1,500-year-old Christian mosaic uncovered in Israel',\n",
       " 'Scientists discover dazzling blue tarantula in South America',\n",
       " \"Arpaio pursued case against Sen. Jeff Flake's son for political reasons, lawsuit claims\",\n",
       " \"Saudi Arabia's crown prince calls Iran's supreme leader 'new Hitler' of the Middle East\",\n",
       " \"Philadelphia mayor unloads on Trump: 'His family didn't do a great job raising the guy'\",\n",
       " 'Revenge of the turkeys: After Thanksgiving, 30-pound birds cause stir in California',\n",
       " 'Trump to call Egyptian president following mosque attack, calls for border wall and travel ban',\n",
       " \"2 sailors didn't board vanished Argentina submarine at the last minute\",\n",
       " 'Mom begs Trump to help free ex-star athlete son from Chinese prison',\n",
       " \"How the FCC's move on net neutrality could impact consumers\",\n",
       " '6 James Bond-inspired Black Friday must-have steals',\n",
       " 'Budweiser makes out-of-this-world announcement',\n",
       " \"Kaepernick participates in 'Unthanksgiving Day' on Alcatraz\",\n",
       " 'What American flicks is recovering North Korean defector watching?',\n",
       " \"Terrorist attack in Egypt shows government's anti-terrorism strategy isn't working\",\n",
       " 'Ten congressional Democrats want leniency for young terrorists who murder Israelis',\n",
       " 'Thanksgiving in Australia is strange for an American',\n",
       " 'College football coach gives reporter politically incorrect wedding advice',\n",
       " 'New anti-Semitism is growing in US and we must fight it',\n",
       " 'To NFL millionaires, be thankful and get off your knees already',\n",
       " 'Will this Black Friday mark the death of the shopping mall?',\n",
       " \"Apprenticeship program aims to assist veterans' transition into civilian life\",\n",
       " 'Vietnam veteran keeps longtime promise to late fellow Marine',\n",
       " \"Toby Keith: 'I do draw the line' somewhere\",\n",
       " \"'Vegas Strong' F-15 fighter jet debuts at Nevada air show\",\n",
       " 'Veterans Day: Lara Trump should be commended for helping prevent veteran suicides',\n",
       " 'Vice President Pence cleans Vietnam Veterans Memorial on holiday',\n",
       " \"\\nJulie's Real: Building the foundation of a natural food empire with love\",\n",
       " \"Don't let roadwork shut down your small business\",\n",
       " 'Amish-inspired Urban Southern leather bags brand new success',\n",
       " 'Weathering a nasty storm: Secrets from small business',\n",
       " 'Superstorm Sandy, 5 years later: How one restaurant helped revive a community',\n",
       " 'Alan Dershowitz: Ten congressional Democrats want lenient treatment for young terrorists who murder Israelis',\n",
       " 'EPIC: College football coach gives reporter politically incorrect wedding advice',\n",
       " 'A new anti-Semitism is growing in America and we must unite against it',\n",
       " 'Here are eight ways to protect your identity during the holiday season',\n",
       " \"Trump is right -- diverse energy sources means America's grid is less vulnerable\",\n",
       " 'Stop talking about the need for computer science and start teaching it',\n",
       " 'How to prep for family gatherings this holiday season',\n",
       " '\\nStorage 101: How to store kitchen tools and flatware',\n",
       " 'Obama vacation home hits the market for $17.75 million',\n",
       " '\\nKaty Perry wins court battle over Los Angeles property',\n",
       " \"George Strait's custom-built Texas mansion up for sale\",\n",
       " 'How to design a media room',\n",
       " 'Automotive Turkeys of 2017',\n",
       " '2017 Mazda CX-5 test drive: A very sporty utility vehicle',\n",
       " 'Tony Stewart fan charged with stalking, threatening the NASCAR star and his family',\n",
       " \"Ken Block tells story of 'Top Gear' stunt gone wrong near war memorial\",\n",
       " '2017 Toyota Highlander hybrid test drive: a big SUV that delivers big MPGs',\n",
       " 'Confederate Motors officially announces name change',\n",
       " 'VA study shows parasite from Vietnam may be killing vets',\n",
       " \"Apprenticeship program aims to assist veterans' transition into civilian life\",\n",
       " \"Colorado VA kept secret wait lists for vets' mental heath care, report finds\",\n",
       " \"Top Army officer says 'significant amount' of soldiers' crime data not reported to feds\",\n",
       " 'Vets walk across America to honor fallen brothers and raise suicide awareness',\n",
       " 'Mark Levin on cable news rivals: ‘We’ll actually have an audience’',\n",
       " \"'Let it Go' singers Demi Lovato, Idina Menzel sued by man claiming hit ripped off song\",\n",
       " 'Ronan Farrow taunts NBC News with secret photo from interview with Weinstein accuser network spiked',\n",
       " '\\nWashington Post reporter caught plotting liberal agenda with billionaire George Soros',\n",
       " 'Ashley Graham gets candid on Miss Universe, being a sex symbol as a plus-size model',\n",
       " 'Uma Thurman rips Harvey Weinstein in Thanksgiving Day Instagram post',\n",
       " 'Hackers putting porn on ISIS propaganda sites, report says',\n",
       " 'Facebook tool will show the Russian propaganda you fell for',\n",
       " \"How the FCC's move on net neutrality could impact consumers\",\n",
       " 'These are the best Black Friday smartphone deals',\n",
       " 'Top 5 Black Friday smart speaker deals: Amazon Echo leads the pack',\n",
       " '5 best Black Friday big-screen 4K TV deals',\n",
       " 'Hunter shoots, kills woman after mistaking her for a deer, officials say',\n",
       " 'Airline installs body cameras on ground crews in UK and France',\n",
       " 'Airline passengers break out accordion, guitar after flight delay is announced',\n",
       " \"Hurricane Irma couldn't destroy this couple's breathtaking engagement photos\",\n",
       " 'Disneyland just discontinued one of its annual passes',\n",
       " 'Wisconsin deer hunter meets friendly 8-point buck during hunt',\n",
       " \"Cards Against Humanity's new 'Prongles' potato chips might be trolling President Trump\",\n",
       " \"KFC offering $10K 'Internet Escape Pod' ahead of Cyber Monday\",\n",
       " 'Origins of SPAM: Celebrating 80 years of the canned meat',\n",
       " 'Budweiser sending barley to space in hopes of learning how to brew beer on Mars',\n",
       " '8 things grocery shoppers should do as soon as they get home',\n",
       " 'The most ridiculous Thanksgiving turkey questions the Butterball hotline has ever answered',\n",
       " '\\nTo NFL millionaires on Thanksgiving, be thankful and get off your knees already',\n",
       " \"Give thanks for America's energy resources and let Native Americans benefit from them\",\n",
       " 'Facing Thanksgiving in the midst of loss -- Thankfulness might be the most powerful tool in the fight against despair',\n",
       " 'Thanksgiving in the military brings us together -- as it should for all of America',\n",
       " 'The first federal Thanksgiving in 1789 still has lessons for us today',\n",
       " 'Thanksgiving in Australia is a strange experience for an American',\n",
       " \"Why many pregnant women aren't screened for deadly skin cancers\",\n",
       " 'Holiday party leftovers: What to keep and what to toss',\n",
       " 'Abortion rates in US hit historic low, CDC report finds',\n",
       " \"Paramedics grant patient's last wish: one final beach day\",\n",
       " \"Toddler receives kidney transplant after initial procedure stalled over dad's probation violation, family says\",\n",
       " 'How to avoid listeria and other diseases while flying for the holidays',\n",
       " 'The Latest: Trump denounces attack in Egypt',\n",
       " 'Trump denounces attack in Egypt, calls again for travel ban',\n",
       " 'Missouri dismemberment suspect charged in California killing',\n",
       " 'Hunter shoots, kills woman after mistaking her for a deer, officials say',\n",
       " 'Florida man tried to break into car filled with cops, officials say',\n",
       " \"Thief tried to use dead woman's $2M in stock to buy gold, feds say\",\n",
       " \"Arpaio pursued case against Sen. Jeff Flake's son for political reasons, lawsuit claims\",\n",
       " \"Rep. Barton suggests he's victim of revenge porn: What is that?\",\n",
       " 'Linda Tripp calls new concerns over Clinton behavior disingenuous',\n",
       " \"How the FCC's move on net neutrality could impact consumers\",\n",
       " 'Alan Dershowitz: Ten congressional Democrats want lenient treatment for young terrorists who murder Israelis',\n",
       " '\\nTexas woman sent Obama, Abbott homemade bombs: prosecutors',\n",
       " 'Hackers putting porn on ISIS propaganda sites, report says',\n",
       " 'Trump to call Egyptian president following mosque attack, calls for border wall and travel ban',\n",
       " 'Oxford Circus tube station reopens following reports of gunfire',\n",
       " 'Alan Dershowitz: Ten congressional Democrats want lenient treatment for young terrorists who murder Israelis',\n",
       " \"The Latest: UK police: 'shots fired' at busy London station\",\n",
       " 'A look at the deadliest militant attacks in Egypt',\n",
       " 'NFL national anthem protests are teaching our children to NOT be thankful for America',\n",
       " 'Thanksgiving is NOT the time for political debates at your feast. Focus on what unites your family',\n",
       " \"Planning the Macy's Thanksgiving Day Parade is a spectacle in and of itself\",\n",
       " \"'American Chopper' star Paul Teutul: My father did me a favor. He fired me\",\n",
       " 'Thanksgiving recipe: Turkey, stuffing, and great values for your kids',\n",
       " \"Suzanne Venker: My message for women -- 'Marrying down' is nothing to celebrate\",\n",
       " 'Storage 101: How to store kitchen tools and flatware',\n",
       " 'How to design a media room',\n",
       " '8 things to consider when adding carpet to your bedroom',\n",
       " 'What to do with all of your family photos',\n",
       " '10 things to store on open kitchen shelves for efficiency and style',\n",
       " 'The pros and cons of 9 popular bathroom mirror options',\n",
       " \"How the Victoria's Secret models prepared for the runway\",\n",
       " '\\n101-year-old who survived Holocaust and cancer celebrates birthday with serious workout',\n",
       " 'The difference between vegan and cruelty-free cosmetics',\n",
       " \"Child allegedly destroys $1,300 of Sephora makeup, uses it as 'finger paint'\",\n",
       " 'Woman with body-length birthmark uses ‘sexy’ selfie to promote awareness',\n",
       " 'Silicone butt injections could be deadly, FDA warns',\n",
       " 'Kate Middleton borrows necklace from the queen',\n",
       " '7-Eleven debuts low-cost makeup line',\n",
       " \"How the Victoria's Secret models prepared for the runway\",\n",
       " \"Lara Trump sports little black dress for 'new parents' night out\",\n",
       " \"Child allegedly destroys $1,300 of Sephora makeup, uses it as 'finger paint'\",\n",
       " 'High-tech shoes transform from flats to high heels with push of a button',\n",
       " 'Florida deputies rescue 82-year-old woman after she crashes into pond',\n",
       " 'WWII medals given back to widow who accidentally donated them to Goodwill',\n",
       " 'Terminally ill boy with wish for Christmas cards receives 14,000 in one day',\n",
       " \"5-year-old 'marries' love of her life ahead of open-heart surgery\",\n",
       " 'Alabama hero drives 2 hours to search for missing 3-year-old, finds her safe',\n",
       " 'Holocaust survivor pulled from car stuck on tracks before freight train hits',\n",
       " 'Mississippi State QB Nick Fitzgerald leaves rivalry game with gruesome injury',\n",
       " 'Maria Sharapova being investigated by Indian police in housing fraud case',\n",
       " \"NBA star Ray Allen says he was 'catfished,' asks court to throw out stalking case\",\n",
       " '\\nOlympic gymnast Gabby Douglas says she was abused, as disgraced doctor pleads guilty to sex charges',\n",
       " 'Gabby Douglas, Olympic gymnast, says sports doctor abused her',\n",
       " 'Former Atlanta Braves GM John Coppolella given lifetime ban from baseball',\n",
       " '\\nMartha Stewart on the Amazon Effect: Need to get people into stores, they are really suffering',\n",
       " 'Trump Organization in buyout deal on struggling NYC tower: report',\n",
       " 'Peter Thiel may look to buy Gawker.com: Report',\n",
       " 'Whirlpool vs. Samsung, LG: US trade court calls for 50% tariff on imported washers',\n",
       " \"FCC's Ajit Pai touts decision to end Obama-era net neutrality rules\",\n",
       " 'Cyber hackers troll for Thanksgiving shoppers: 5 tips to stay safe',\n",
       " 'Wall Street stocks end higher in shortened session',\n",
       " 'World stocks rise amid upbeat European data, US holiday',\n",
       " 'CBS, Dish agree carriage terms; blackout ends',\n",
       " 'Asian shares lower, China in focus after big selloff',\n",
       " 'Asian stocks flat as Fed minutes show support for rate hike',\n",
       " \"It's tax time for fund investors, even those doing nothing\",\n",
       " \"Keith Urban's recalls first Thanksgiving: It was 'insane'\",\n",
       " \"Blake Shelton says he was 'fat and ugly' his 'whole life' after being named Sexiest Man Alive\",\n",
       " \"Glen Campbell's widow, daughter talk country icon's legacy\",\n",
       " \"\\nBlake Shelton's 'Sexiest Man Alive' title angers some fans because of singer's past tweets\",\n",
       " 'Jason Aldean details early moments of the Las Vegas shooting for the first time',\n",
       " \"Toby Keith: 'I do draw the line' somewhere\",\n",
       " 'Manute Bol may have been 50 when he played in the NBA',\n",
       " 'Charlie Rose, Al Franken and Roy Moore: The harassment allegations continue',\n",
       " \"White person claims to be 'transracial,' identifies as Filipino\",\n",
       " 'New Jersey woman stuck in septic tank rescued after 3 hours',\n",
       " 'Utah man says high school mascot’s name sounds like male genitalia']"
      ]
     },
     "execution_count": 53,
     "metadata": {},
     "output_type": "execute_result"
    }
   ],
   "source": [
    "headlines"
   ]
  },
  {
   "cell_type": "code",
   "execution_count": null,
   "metadata": {
    "collapsed": true
   },
   "outputs": [],
   "source": []
  }
 ],
 "metadata": {
  "kernelspec": {
   "display_name": "Python 3",
   "language": "python",
   "name": "python3"
  },
  "language_info": {
   "codemirror_mode": {
    "name": "ipython",
    "version": 3
   },
   "file_extension": ".py",
   "mimetype": "text/x-python",
   "name": "python",
   "nbconvert_exporter": "python",
   "pygments_lexer": "ipython3",
   "version": "3.5.4"
  }
 },
 "nbformat": 4,
 "nbformat_minor": 2
}
